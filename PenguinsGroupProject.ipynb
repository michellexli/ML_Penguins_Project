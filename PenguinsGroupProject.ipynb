{
  "nbformat": 4,
  "nbformat_minor": 0,
  "metadata": {
    "colab": {
      "provenance": []
    },
    "kernelspec": {
      "name": "python3",
      "display_name": "Python 3"
    },
    "language_info": {
      "name": "python"
    }
  },
  "cells": [
    {
      "cell_type": "markdown",
      "source": [
        "PIC 16A Group Project\n",
        "\n",
        "Members: Michelle Li, Tony(Yanle) Lyu, Helen Chao\n",
        "\n",
        "Discussion 1B\n",
        "\n",
        "Due Date: 12/02/2022"
      ],
      "metadata": {
        "id": "38uFiCYaPr3s"
      }
    },
    {
      "cell_type": "markdown",
      "source": [
        "**Group Contributions Statement:**\n",
        "\n",
        "All three of us, Michelle, Tony, and Helen, collaborated equally on this group project. Tony took charge on the figures and exploratory analysis, Michelle led the feature selection portion and confusion matrices, and Helen led the modeling portion, especially modifying the code for decision regions. But within each step, it was clear that all three group members contributed an equal amount and worked very well together. All group members provided feedback and guidance to each other and we worked to review and propose ideas for each other's code. We worked on the project together through multiple meetings, and would only work on it in a group setting. Tony wrote the comments and docstrings for all functions, Michelle wrote the explanations for the figures, feature selection, and models, and then Helen and Michelle wrote the final discussion together. "
      ],
      "metadata": {
        "id": "GF7SQQu_i3j8"
      }
    },
    {
      "cell_type": "markdown",
      "source": [
        "**Introduction**\n",
        "\n",
        "In this project, we will explore how machine learning algorithms can ultimately help us predict species of penguins based on other information we have. The dystopian future predicts an overpopulation of penguins. Because of this, we will have to figure out which measurements, quantitative and qualitative, are most important for differentiating penguin species. Throughout this course, we have learned a lot about the importance of machine learning algorithms in our society today, and this project gives us the opportunity to handle these algorithms ourselves. To begin, we will import the \"penguins\" dataset and begin cleaning our data!"
      ],
      "metadata": {
        "id": "8jO1cK1HSsHs"
      }
    },
    {
      "cell_type": "code",
      "source": [
        "import pandas as pd\n",
        "from matplotlib import pyplot as plt\n",
        "import numpy as np"
      ],
      "metadata": {
        "id": "DbEUmPkHBhu_"
      },
      "execution_count": 1,
      "outputs": []
    },
    {
      "cell_type": "code",
      "source": [
        "url = \"https://philchodrow.github.io/PIC16A/datasets/palmer_penguins.csv\"\n",
        "penguins = pd.read_csv(url)"
      ],
      "metadata": {
        "id": "_TK7WBEZCL5z",
        "colab": {
          "base_uri": "https://localhost:8080/"
        },
        "outputId": "bc68cb23-89ba-43c2-adb0-ac7afe4e584f"
      },
      "execution_count": 2,
      "outputs": [
        {
          "output_type": "execute_result",
          "data": {
            "text/plain": [
              "(344, 17)"
            ]
          },
          "metadata": {},
          "execution_count": 2
        }
      ]
    },
    {
      "cell_type": "code",
      "source": [
        "penguins = penguins[[\"Species\", \"Region\", \"Island\", \"Culmen Length (mm)\",\"Culmen Depth (mm)\",\"Flipper Length (mm)\",\"Body Mass (g)\",\"Sex\"]]"
      ],
      "metadata": {
        "id": "k4OkrLUnIPLr"
      },
      "execution_count": null,
      "outputs": []
    },
    {
      "cell_type": "markdown",
      "source": [
        "In this step, we are first splitting our data into a training and testing set. This makes sure that information from the cleaning process does not modify the test set. "
      ],
      "metadata": {
        "id": "j4dsxWpaTKEL"
      }
    },
    {
      "cell_type": "code",
      "source": [
        "# Split Data\n",
        "from sklearn.model_selection import train_test_split\n",
        "\n",
        "np.random.seed(1234) \n",
        "penguins_train, penguins_test = train_test_split(penguins, test_size = 0.2)"
      ],
      "metadata": {
        "id": "_ZavK6BNktXx"
      },
      "execution_count": null,
      "outputs": []
    },
    {
      "cell_type": "markdown",
      "source": [
        "We then proceed to clean both the training and testing data. This involves dropping the \"nans\" from the dataframe and also dropping the entries that are empty in the \"Sex\" column.\n",
        "\n",
        "We also narrowed down the penguins_train dataframe to only include the following features: Species, Island, Culmen Length (mm), Culmen Depth (mm), Flipper Length (mm), Body Mass (g), and Sex. We knew that these were the features we were most interested in analyzing throughout the project.\n",
        "\n",
        "We were not interested in \"Region\" and \"Stage\" because there is only one value for those columns, \"Anvers\" and \"Adult, 1 Egg Stage,\" respectively. Therefore, these variables would not be helpful predictors. "
      ],
      "metadata": {
        "id": "SJhCSxS1K2Jt"
      }
    },
    {
      "cell_type": "code",
      "source": [
        "# Clean Training and Test Data\n",
        "\n",
        "penguins_train = penguins_train[['Species', 'Island', 'Culmen Length (mm)', 'Culmen Depth (mm)', 'Flipper Length (mm)', 'Body Mass (g)', \"Sex\"]]\n",
        "penguins_train = penguins_train[penguins_train[\"Sex\"]!=\".\"]\n",
        "penguins_test = penguins_test[penguins_test[\"Sex\"]!=\".\"]"
      ],
      "metadata": {
        "id": "cEJvUplln1uu"
      },
      "execution_count": null,
      "outputs": []
    },
    {
      "cell_type": "markdown",
      "source": [
        "In the cell below, we are confirming which numbers correspond to which Island, since we will recode the Island names with numbers soon."
      ],
      "metadata": {
        "id": "bOj_FV0vaqV7"
      }
    },
    {
      "cell_type": "code",
      "source": [
        "from sklearn import preprocessing\n",
        "#drop NAs\n",
        "le = preprocessing.LabelEncoder()\n",
        "dfcopy = penguins_train.copy().dropna()\n",
        "dfcopy['IslandNumber'] = le.fit_transform(dfcopy['Island'])\n",
        "#group the data by islands\n",
        "speciesDf = dfcopy.groupby(\"Island\")[\"Island\", \"IslandNumber\"].max()\n",
        "speciesDf = speciesDf.values\n",
        "speciesDf"
      ],
      "metadata": {
        "colab": {
          "base_uri": "https://localhost:8080/"
        },
        "id": "coq_wQ62MBHe",
        "outputId": "ef7cba57-6d40-45b2-af67-79f78643ba3d"
      },
      "execution_count": null,
      "outputs": [
        {
          "output_type": "stream",
          "name": "stderr",
          "text": [
            "<ipython-input-6-8f1aa5e59042>:7: FutureWarning: Indexing with multiple keys (implicitly converted to a tuple of keys) will be deprecated, use a list instead.\n",
            "  speciesDf = dfcopy.groupby(\"Island\")[\"Island\", \"IslandNumber\"].max()\n"
          ]
        },
        {
          "output_type": "execute_result",
          "data": {
            "text/plain": [
              "array([['Biscoe', 0],\n",
              "       ['Dream', 1],\n",
              "       ['Torgersen', 2]], dtype=object)"
            ]
          },
          "metadata": {},
          "execution_count": 6
        }
      ]
    },
    {
      "cell_type": "markdown",
      "source": [
        "We recoded the \"Sex\" and \"Island\" columns of the dataframe to have numerical entries (0, 1, etc.) rather than text entries. We recoded both the training and test data."
      ],
      "metadata": {
        "id": "Pa3jeXVcK7oO"
      }
    },
    {
      "cell_type": "code",
      "source": [
        "# Recode Data\n",
        "from sklearn import preprocessing\n",
        "\n",
        "le = preprocessing.LabelEncoder()\n",
        "# Sex:0 is female\n",
        "# Sex:1 is male\n",
        "penguins_train['Sex'] = le.fit_transform(penguins_train['Sex'])\n",
        "#Island 0:Biscoe\n",
        "#Island 1:Dream\n",
        "#Island 2:Torgersen\n",
        "penguins_train['Island'] = le.fit_transform(penguins_train['Island'])\n",
        "# Sex:0 is female\n",
        "# Sex:1 is male\n",
        "penguins_test['Sex'] = le.fit_transform(penguins_test['Sex'])\n",
        "#Island 0:Biscoe\n",
        "#Island 1:Dream\n",
        "#Island 2:Torgersen\n",
        "penguins_test['Island'] = le.fit_transform(penguins_test['Island'])\n"
      ],
      "metadata": {
        "id": "17yLMBdcpU4W"
      },
      "execution_count": null,
      "outputs": []
    },
    {
      "cell_type": "markdown",
      "source": [
        "**Exploratory Analysis: Qualitative Data Table**"
      ],
      "metadata": {
        "id": "Z2mAvfttD2kD"
      }
    },
    {
      "cell_type": "markdown",
      "source": [
        "In this step, we are creating a function to create a summary table of the penguins data frame grouped by specified columns. Our qualitative data table is grouped by Species and the qualitative feature \"Sex.\" This shows that the mean of the Culmen Length, Culmen Depth, Flipper Length, and Body Mass differs between genders among the three penguin species. From this table, we can see that Culmen Length differs significantly between the Adelie penguin and both the Chinstrap and Gentoo penguins. Although the Culmen Depth for male and female Adelie and Chinstrap penguins is quite similar, the Culmen Depth for male and female Gentoo penguins is smaller than both the Adelie and Chinstrap species by around 3-4 mm. This table also showed that Gentoo penguins have the longest Flipper Length and largest Body Mass out of the three species. In all three species, male penguins had higher values than female penguins for all the quantitative features.\n",
        "\n",
        "This qualitative data table informed our modeling decisions by showing us that we could potentially use \"Sex\" as a qualitative feature to predict species of penguins. This was because based on gender, the quantitative features of the penguins were quite indicative of their species. For instance, the body mass and flipper length of the penguins varied a lot by species and gender, which makes it easier to identify a given penguin's species. If presented with a male penguin with body mass around 4000 grams, one could identify it as either Adelie or Chinstrap by using the qualitative feature \"Sex\" and the quantitative feature \"body mass\".\n"
      ],
      "metadata": {
        "id": "u_9fiHGVWQRt"
      }
    },
    {
      "cell_type": "code",
      "source": [
        "# Gives the average of all values, grouped by sex and species\n",
        "\n",
        "def penguin_summary_table(group_cols,value_cols):\n",
        "    return penguins_train.groupby(group_cols)[value_cols].mean().round(2)\n",
        "#create a summary table of all data\n",
        "(penguin_summary_table([\"Species\",\"Sex\"], [\"Culmen Length (mm)\", \"Culmen Depth (mm)\",\"Flipper Length (mm)\",\"Body Mass (g)\"]))"
      ],
      "metadata": {
        "id": "fQQ95y_fsTQc",
        "colab": {
          "base_uri": "https://localhost:8080/",
          "height": 332
        },
        "outputId": "eb9556a2-cc91-40f5-e766-c57a32a16146"
      },
      "execution_count": null,
      "outputs": [
        {
          "output_type": "execute_result",
          "data": {
            "text/plain": [
              "                                               Culmen Length (mm)  \\\n",
              "Species                                   Sex                       \n",
              "Adelie Penguin (Pygoscelis adeliae)       0                 37.46   \n",
              "                                          1                 40.25   \n",
              "                                          2                 37.84   \n",
              "Chinstrap penguin (Pygoscelis antarctica) 0                 46.55   \n",
              "                                          1                 51.11   \n",
              "Gentoo penguin (Pygoscelis papua)         0                 45.65   \n",
              "                                          1                 49.46   \n",
              "                                          2                 46.00   \n",
              "\n",
              "                                               Culmen Depth (mm)  \\\n",
              "Species                                   Sex                      \n",
              "Adelie Penguin (Pygoscelis adeliae)       0                17.59   \n",
              "                                          1                19.05   \n",
              "                                          2                18.32   \n",
              "Chinstrap penguin (Pygoscelis antarctica) 0                17.56   \n",
              "                                          1                19.14   \n",
              "Gentoo penguin (Pygoscelis papua)         0                14.26   \n",
              "                                          1                15.75   \n",
              "                                          2                14.17   \n",
              "\n",
              "                                               Flipper Length (mm)  \\\n",
              "Species                                   Sex                        \n",
              "Adelie Penguin (Pygoscelis adeliae)       0                 187.36   \n",
              "                                          1                 191.66   \n",
              "                                          2                 185.60   \n",
              "Chinstrap penguin (Pygoscelis antarctica) 0                 192.12   \n",
              "                                          1                 199.41   \n",
              "Gentoo penguin (Pygoscelis papua)         0                 213.37   \n",
              "                                          1                 221.20   \n",
              "                                          2                 215.33   \n",
              "\n",
              "                                               Body Mass (g)  \n",
              "Species                                   Sex                 \n",
              "Adelie Penguin (Pygoscelis adeliae)       0          3375.45  \n",
              "                                          1          3996.98  \n",
              "                                          2          3540.00  \n",
              "Chinstrap penguin (Pygoscelis antarctica) 0          3488.00  \n",
              "                                          1          3919.44  \n",
              "Gentoo penguin (Pygoscelis papua)         0          4715.31  \n",
              "                                          1          5489.50  \n",
              "                                          2          4491.67  "
            ],
            "text/html": [
              "\n",
              "  <div id=\"df-2bb3d474-5754-4d0b-94a1-ef643558a7c8\">\n",
              "    <div class=\"colab-df-container\">\n",
              "      <div>\n",
              "<style scoped>\n",
              "    .dataframe tbody tr th:only-of-type {\n",
              "        vertical-align: middle;\n",
              "    }\n",
              "\n",
              "    .dataframe tbody tr th {\n",
              "        vertical-align: top;\n",
              "    }\n",
              "\n",
              "    .dataframe thead th {\n",
              "        text-align: right;\n",
              "    }\n",
              "</style>\n",
              "<table border=\"1\" class=\"dataframe\">\n",
              "  <thead>\n",
              "    <tr style=\"text-align: right;\">\n",
              "      <th></th>\n",
              "      <th></th>\n",
              "      <th>Culmen Length (mm)</th>\n",
              "      <th>Culmen Depth (mm)</th>\n",
              "      <th>Flipper Length (mm)</th>\n",
              "      <th>Body Mass (g)</th>\n",
              "    </tr>\n",
              "    <tr>\n",
              "      <th>Species</th>\n",
              "      <th>Sex</th>\n",
              "      <th></th>\n",
              "      <th></th>\n",
              "      <th></th>\n",
              "      <th></th>\n",
              "    </tr>\n",
              "  </thead>\n",
              "  <tbody>\n",
              "    <tr>\n",
              "      <th rowspan=\"3\" valign=\"top\">Adelie Penguin (Pygoscelis adeliae)</th>\n",
              "      <th>0</th>\n",
              "      <td>37.46</td>\n",
              "      <td>17.59</td>\n",
              "      <td>187.36</td>\n",
              "      <td>3375.45</td>\n",
              "    </tr>\n",
              "    <tr>\n",
              "      <th>1</th>\n",
              "      <td>40.25</td>\n",
              "      <td>19.05</td>\n",
              "      <td>191.66</td>\n",
              "      <td>3996.98</td>\n",
              "    </tr>\n",
              "    <tr>\n",
              "      <th>2</th>\n",
              "      <td>37.84</td>\n",
              "      <td>18.32</td>\n",
              "      <td>185.60</td>\n",
              "      <td>3540.00</td>\n",
              "    </tr>\n",
              "    <tr>\n",
              "      <th rowspan=\"2\" valign=\"top\">Chinstrap penguin (Pygoscelis antarctica)</th>\n",
              "      <th>0</th>\n",
              "      <td>46.55</td>\n",
              "      <td>17.56</td>\n",
              "      <td>192.12</td>\n",
              "      <td>3488.00</td>\n",
              "    </tr>\n",
              "    <tr>\n",
              "      <th>1</th>\n",
              "      <td>51.11</td>\n",
              "      <td>19.14</td>\n",
              "      <td>199.41</td>\n",
              "      <td>3919.44</td>\n",
              "    </tr>\n",
              "    <tr>\n",
              "      <th rowspan=\"3\" valign=\"top\">Gentoo penguin (Pygoscelis papua)</th>\n",
              "      <th>0</th>\n",
              "      <td>45.65</td>\n",
              "      <td>14.26</td>\n",
              "      <td>213.37</td>\n",
              "      <td>4715.31</td>\n",
              "    </tr>\n",
              "    <tr>\n",
              "      <th>1</th>\n",
              "      <td>49.46</td>\n",
              "      <td>15.75</td>\n",
              "      <td>221.20</td>\n",
              "      <td>5489.50</td>\n",
              "    </tr>\n",
              "    <tr>\n",
              "      <th>2</th>\n",
              "      <td>46.00</td>\n",
              "      <td>14.17</td>\n",
              "      <td>215.33</td>\n",
              "      <td>4491.67</td>\n",
              "    </tr>\n",
              "  </tbody>\n",
              "</table>\n",
              "</div>\n",
              "      <button class=\"colab-df-convert\" onclick=\"convertToInteractive('df-2bb3d474-5754-4d0b-94a1-ef643558a7c8')\"\n",
              "              title=\"Convert this dataframe to an interactive table.\"\n",
              "              style=\"display:none;\">\n",
              "        \n",
              "  <svg xmlns=\"http://www.w3.org/2000/svg\" height=\"24px\"viewBox=\"0 0 24 24\"\n",
              "       width=\"24px\">\n",
              "    <path d=\"M0 0h24v24H0V0z\" fill=\"none\"/>\n",
              "    <path d=\"M18.56 5.44l.94 2.06.94-2.06 2.06-.94-2.06-.94-.94-2.06-.94 2.06-2.06.94zm-11 1L8.5 8.5l.94-2.06 2.06-.94-2.06-.94L8.5 2.5l-.94 2.06-2.06.94zm10 10l.94 2.06.94-2.06 2.06-.94-2.06-.94-.94-2.06-.94 2.06-2.06.94z\"/><path d=\"M17.41 7.96l-1.37-1.37c-.4-.4-.92-.59-1.43-.59-.52 0-1.04.2-1.43.59L10.3 9.45l-7.72 7.72c-.78.78-.78 2.05 0 2.83L4 21.41c.39.39.9.59 1.41.59.51 0 1.02-.2 1.41-.59l7.78-7.78 2.81-2.81c.8-.78.8-2.07 0-2.86zM5.41 20L4 18.59l7.72-7.72 1.47 1.35L5.41 20z\"/>\n",
              "  </svg>\n",
              "      </button>\n",
              "      \n",
              "  <style>\n",
              "    .colab-df-container {\n",
              "      display:flex;\n",
              "      flex-wrap:wrap;\n",
              "      gap: 12px;\n",
              "    }\n",
              "\n",
              "    .colab-df-convert {\n",
              "      background-color: #E8F0FE;\n",
              "      border: none;\n",
              "      border-radius: 50%;\n",
              "      cursor: pointer;\n",
              "      display: none;\n",
              "      fill: #1967D2;\n",
              "      height: 32px;\n",
              "      padding: 0 0 0 0;\n",
              "      width: 32px;\n",
              "    }\n",
              "\n",
              "    .colab-df-convert:hover {\n",
              "      background-color: #E2EBFA;\n",
              "      box-shadow: 0px 1px 2px rgba(60, 64, 67, 0.3), 0px 1px 3px 1px rgba(60, 64, 67, 0.15);\n",
              "      fill: #174EA6;\n",
              "    }\n",
              "\n",
              "    [theme=dark] .colab-df-convert {\n",
              "      background-color: #3B4455;\n",
              "      fill: #D2E3FC;\n",
              "    }\n",
              "\n",
              "    [theme=dark] .colab-df-convert:hover {\n",
              "      background-color: #434B5C;\n",
              "      box-shadow: 0px 1px 3px 1px rgba(0, 0, 0, 0.15);\n",
              "      filter: drop-shadow(0px 1px 2px rgba(0, 0, 0, 0.3));\n",
              "      fill: #FFFFFF;\n",
              "    }\n",
              "  </style>\n",
              "\n",
              "      <script>\n",
              "        const buttonEl =\n",
              "          document.querySelector('#df-2bb3d474-5754-4d0b-94a1-ef643558a7c8 button.colab-df-convert');\n",
              "        buttonEl.style.display =\n",
              "          google.colab.kernel.accessAllowed ? 'block' : 'none';\n",
              "\n",
              "        async function convertToInteractive(key) {\n",
              "          const element = document.querySelector('#df-2bb3d474-5754-4d0b-94a1-ef643558a7c8');\n",
              "          const dataTable =\n",
              "            await google.colab.kernel.invokeFunction('convertToInteractive',\n",
              "                                                     [key], {});\n",
              "          if (!dataTable) return;\n",
              "\n",
              "          const docLinkHtml = 'Like what you see? Visit the ' +\n",
              "            '<a target=\"_blank\" href=https://colab.research.google.com/notebooks/data_table.ipynb>data table notebook</a>'\n",
              "            + ' to learn more about interactive tables.';\n",
              "          element.innerHTML = '';\n",
              "          dataTable['output_type'] = 'display_data';\n",
              "          await google.colab.output.renderOutput(dataTable, element);\n",
              "          const docLink = document.createElement('div');\n",
              "          docLink.innerHTML = docLinkHtml;\n",
              "          element.appendChild(docLink);\n",
              "        }\n",
              "      </script>\n",
              "    </div>\n",
              "  </div>\n",
              "  "
            ]
          },
          "metadata": {},
          "execution_count": 8
        }
      ]
    },
    {
      "cell_type": "markdown",
      "source": [
        "In the cell below, we also wanted to create a qualitative data table grouped by Species and the other qualitative feature Island. \n",
        "\n",
        "This qualitative data table showed that Island was a better predictor of species than Sex was, since two of the species, Chinstrap and Gentoo, only reside on one island each. Therefore, this makes it much easier to predict what species a penguin is based on which island it is from. For example, if we are presented with a penguin from Island 1 (Dream), we can narrow it down to either Adelie or Chinstrap, since Gentoo penguins only reside on Island 0 (Biscoe). Then, by analyzing two of the penguin's quantitative features, it is much easier for us to determine the species with this additional information. In this example, if the penguin had a culmen length around 45-50 mm, we could predict it to be a Chinstrap penguin, since Adelie penguins from Island 1 (Dream) have a shorter culmen length (around 38 mm)."
      ],
      "metadata": {
        "id": "fNewg1dN8h9r"
      }
    },
    {
      "cell_type": "code",
      "source": [
        "(penguin_summary_table([\"Species\",\"Island\"], [\"Culmen Length (mm)\", \"Culmen Depth (mm)\",\"Flipper Length (mm)\",\"Body Mass (g)\"]))"
      ],
      "metadata": {
        "id": "ps5BWNZ28TFT",
        "colab": {
          "base_uri": "https://localhost:8080/",
          "height": 238
        },
        "outputId": "9899610f-57b0-4d14-92ca-47af593f5d16"
      },
      "execution_count": null,
      "outputs": [
        {
          "output_type": "execute_result",
          "data": {
            "text/plain": [
              "                                                  Culmen Length (mm)  \\\n",
              "Species                                   Island                       \n",
              "Adelie Penguin (Pygoscelis adeliae)       0                    39.17   \n",
              "                                          1                    38.43   \n",
              "                                          2                    38.98   \n",
              "Chinstrap penguin (Pygoscelis antarctica) 1                    48.92   \n",
              "Gentoo penguin (Pygoscelis papua)         0                    47.53   \n",
              "\n",
              "                                                  Culmen Depth (mm)  \\\n",
              "Species                                   Island                      \n",
              "Adelie Penguin (Pygoscelis adeliae)       0                   18.37   \n",
              "                                          1                   18.30   \n",
              "                                          2                   18.34   \n",
              "Chinstrap penguin (Pygoscelis antarctica) 1                   18.38   \n",
              "Gentoo penguin (Pygoscelis papua)         0                   14.99   \n",
              "\n",
              "                                                  Flipper Length (mm)  \\\n",
              "Species                                   Island                        \n",
              "Adelie Penguin (Pygoscelis adeliae)       0                    187.41   \n",
              "                                          1                    188.86   \n",
              "                                          2                    191.32   \n",
              "Chinstrap penguin (Pygoscelis antarctica) 1                    195.90   \n",
              "Gentoo penguin (Pygoscelis papua)         0                    217.26   \n",
              "\n",
              "                                                  Body Mass (g)  \n",
              "Species                                   Island                 \n",
              "Adelie Penguin (Pygoscelis adeliae)       0             3706.25  \n",
              "                                          1             3677.91  \n",
              "                                          2             3677.27  \n",
              "Chinstrap penguin (Pygoscelis antarctica) 1             3712.02  \n",
              "Gentoo penguin (Pygoscelis papua)         0             5088.24  "
            ],
            "text/html": [
              "\n",
              "  <div id=\"df-0b669b98-08c4-4a84-b0b9-21647a0c838d\">\n",
              "    <div class=\"colab-df-container\">\n",
              "      <div>\n",
              "<style scoped>\n",
              "    .dataframe tbody tr th:only-of-type {\n",
              "        vertical-align: middle;\n",
              "    }\n",
              "\n",
              "    .dataframe tbody tr th {\n",
              "        vertical-align: top;\n",
              "    }\n",
              "\n",
              "    .dataframe thead th {\n",
              "        text-align: right;\n",
              "    }\n",
              "</style>\n",
              "<table border=\"1\" class=\"dataframe\">\n",
              "  <thead>\n",
              "    <tr style=\"text-align: right;\">\n",
              "      <th></th>\n",
              "      <th></th>\n",
              "      <th>Culmen Length (mm)</th>\n",
              "      <th>Culmen Depth (mm)</th>\n",
              "      <th>Flipper Length (mm)</th>\n",
              "      <th>Body Mass (g)</th>\n",
              "    </tr>\n",
              "    <tr>\n",
              "      <th>Species</th>\n",
              "      <th>Island</th>\n",
              "      <th></th>\n",
              "      <th></th>\n",
              "      <th></th>\n",
              "      <th></th>\n",
              "    </tr>\n",
              "  </thead>\n",
              "  <tbody>\n",
              "    <tr>\n",
              "      <th rowspan=\"3\" valign=\"top\">Adelie Penguin (Pygoscelis adeliae)</th>\n",
              "      <th>0</th>\n",
              "      <td>39.17</td>\n",
              "      <td>18.37</td>\n",
              "      <td>187.41</td>\n",
              "      <td>3706.25</td>\n",
              "    </tr>\n",
              "    <tr>\n",
              "      <th>1</th>\n",
              "      <td>38.43</td>\n",
              "      <td>18.30</td>\n",
              "      <td>188.86</td>\n",
              "      <td>3677.91</td>\n",
              "    </tr>\n",
              "    <tr>\n",
              "      <th>2</th>\n",
              "      <td>38.98</td>\n",
              "      <td>18.34</td>\n",
              "      <td>191.32</td>\n",
              "      <td>3677.27</td>\n",
              "    </tr>\n",
              "    <tr>\n",
              "      <th>Chinstrap penguin (Pygoscelis antarctica)</th>\n",
              "      <th>1</th>\n",
              "      <td>48.92</td>\n",
              "      <td>18.38</td>\n",
              "      <td>195.90</td>\n",
              "      <td>3712.02</td>\n",
              "    </tr>\n",
              "    <tr>\n",
              "      <th>Gentoo penguin (Pygoscelis papua)</th>\n",
              "      <th>0</th>\n",
              "      <td>47.53</td>\n",
              "      <td>14.99</td>\n",
              "      <td>217.26</td>\n",
              "      <td>5088.24</td>\n",
              "    </tr>\n",
              "  </tbody>\n",
              "</table>\n",
              "</div>\n",
              "      <button class=\"colab-df-convert\" onclick=\"convertToInteractive('df-0b669b98-08c4-4a84-b0b9-21647a0c838d')\"\n",
              "              title=\"Convert this dataframe to an interactive table.\"\n",
              "              style=\"display:none;\">\n",
              "        \n",
              "  <svg xmlns=\"http://www.w3.org/2000/svg\" height=\"24px\"viewBox=\"0 0 24 24\"\n",
              "       width=\"24px\">\n",
              "    <path d=\"M0 0h24v24H0V0z\" fill=\"none\"/>\n",
              "    <path d=\"M18.56 5.44l.94 2.06.94-2.06 2.06-.94-2.06-.94-.94-2.06-.94 2.06-2.06.94zm-11 1L8.5 8.5l.94-2.06 2.06-.94-2.06-.94L8.5 2.5l-.94 2.06-2.06.94zm10 10l.94 2.06.94-2.06 2.06-.94-2.06-.94-.94-2.06-.94 2.06-2.06.94z\"/><path d=\"M17.41 7.96l-1.37-1.37c-.4-.4-.92-.59-1.43-.59-.52 0-1.04.2-1.43.59L10.3 9.45l-7.72 7.72c-.78.78-.78 2.05 0 2.83L4 21.41c.39.39.9.59 1.41.59.51 0 1.02-.2 1.41-.59l7.78-7.78 2.81-2.81c.8-.78.8-2.07 0-2.86zM5.41 20L4 18.59l7.72-7.72 1.47 1.35L5.41 20z\"/>\n",
              "  </svg>\n",
              "      </button>\n",
              "      \n",
              "  <style>\n",
              "    .colab-df-container {\n",
              "      display:flex;\n",
              "      flex-wrap:wrap;\n",
              "      gap: 12px;\n",
              "    }\n",
              "\n",
              "    .colab-df-convert {\n",
              "      background-color: #E8F0FE;\n",
              "      border: none;\n",
              "      border-radius: 50%;\n",
              "      cursor: pointer;\n",
              "      display: none;\n",
              "      fill: #1967D2;\n",
              "      height: 32px;\n",
              "      padding: 0 0 0 0;\n",
              "      width: 32px;\n",
              "    }\n",
              "\n",
              "    .colab-df-convert:hover {\n",
              "      background-color: #E2EBFA;\n",
              "      box-shadow: 0px 1px 2px rgba(60, 64, 67, 0.3), 0px 1px 3px 1px rgba(60, 64, 67, 0.15);\n",
              "      fill: #174EA6;\n",
              "    }\n",
              "\n",
              "    [theme=dark] .colab-df-convert {\n",
              "      background-color: #3B4455;\n",
              "      fill: #D2E3FC;\n",
              "    }\n",
              "\n",
              "    [theme=dark] .colab-df-convert:hover {\n",
              "      background-color: #434B5C;\n",
              "      box-shadow: 0px 1px 3px 1px rgba(0, 0, 0, 0.15);\n",
              "      filter: drop-shadow(0px 1px 2px rgba(0, 0, 0, 0.3));\n",
              "      fill: #FFFFFF;\n",
              "    }\n",
              "  </style>\n",
              "\n",
              "      <script>\n",
              "        const buttonEl =\n",
              "          document.querySelector('#df-0b669b98-08c4-4a84-b0b9-21647a0c838d button.colab-df-convert');\n",
              "        buttonEl.style.display =\n",
              "          google.colab.kernel.accessAllowed ? 'block' : 'none';\n",
              "\n",
              "        async function convertToInteractive(key) {\n",
              "          const element = document.querySelector('#df-0b669b98-08c4-4a84-b0b9-21647a0c838d');\n",
              "          const dataTable =\n",
              "            await google.colab.kernel.invokeFunction('convertToInteractive',\n",
              "                                                     [key], {});\n",
              "          if (!dataTable) return;\n",
              "\n",
              "          const docLinkHtml = 'Like what you see? Visit the ' +\n",
              "            '<a target=\"_blank\" href=https://colab.research.google.com/notebooks/data_table.ipynb>data table notebook</a>'\n",
              "            + ' to learn more about interactive tables.';\n",
              "          element.innerHTML = '';\n",
              "          dataTable['output_type'] = 'display_data';\n",
              "          await google.colab.output.renderOutput(dataTable, element);\n",
              "          const docLink = document.createElement('div');\n",
              "          docLink.innerHTML = docLinkHtml;\n",
              "          element.appendChild(docLink);\n",
              "        }\n",
              "      </script>\n",
              "    </div>\n",
              "  </div>\n",
              "  "
            ]
          },
          "metadata": {},
          "execution_count": 9
        }
      ]
    },
    {
      "cell_type": "markdown",
      "source": [
        "**A Histogram of Body Mass (g) for Different Species**\n",
        "\n",
        "Here, we are creating a histogram comparing body masses of the different species of penguins for each gender. We learn from this figure that on average, male penguins of all species have higher body masses than female penguins. Additionally, we learn that Gentoo penguins have a significantly larger body mass than both Adelie and Chinstrap penguins for both males and females, and Adelie and Chinstrap penguins generally have similar body masses. This data led us to believe that body mass may not be the best predictive feature of penguin species, since it is so similar between Adelie and Chinstrap penguins."
      ],
      "metadata": {
        "id": "RDmP5q-bsZ0N"
      }
    },
    {
      "cell_type": "code",
      "source": [
        "def plt_hist(penguins_train):\n",
        "  '''\n",
        "  input:\n",
        "     penguins_train: a training data set subsetted from penguins\n",
        "  output:\n",
        "     a histogram of body mass for all species for both sex\n",
        "  '''\n",
        "  fig,  ax = plt.subplots(2,figsize = (10,7), sharex = True)\n",
        "  #iterate thru all sex\n",
        "  for gender in range(2):\n",
        "    genderList = [\"Female\",\"Male\"]\n",
        "    penguins_train_gender = penguins_train[penguins_train[\"Sex\"]==gender]\n",
        "    species = set(penguins_train[\"Species\"])\n",
        "    #iterate thru all species\n",
        "    for i in species:\n",
        "      subspecies = penguins_train_gender[penguins_train_gender[\"Species\"]==i]\n",
        "      label = i.split(\" \")[0]\n",
        "      ax[gender].hist(subspecies[\"Body Mass (g)\"],label = label,alpha = 0.5)\n",
        "      ax[gender].set(xlabel = \"Body Mass (g)\", ylabel = \"Density\", title = \"Histogram of Body Mass (g) for Different Species: \" + genderList[gender])\n",
        "    ax[gender].legend()\n",
        "    plt.tight_layout()\n",
        "\n",
        "plt_hist(penguins_train)\n"
      ],
      "metadata": {
        "id": "_cbWrM6v_Z93",
        "colab": {
          "base_uri": "https://localhost:8080/",
          "height": 513
        },
        "outputId": "9e2e09a3-263f-4d8a-93fd-44d3b2e5af62"
      },
      "execution_count": null,
      "outputs": [
        {
          "output_type": "display_data",
          "data": {
            "text/plain": [
              "<Figure size 720x504 with 2 Axes>"
            ],
            "image/png": "[encoded data removed]"
          },
          "metadata": {
            "needs_background": "light"
          }
        }
      ]
    },
    {
      "cell_type": "markdown",
      "source": [
        "**A Scatter Plot of Culmen Depth and Culmen Length for All Species**"
      ],
      "metadata": {
        "id": "V-sB0E2zs8VW"
      }
    },
    {
      "cell_type": "markdown",
      "source": [
        "This scatterplot shows culmen length plotted against culmen depth for all species, split by gender. These plots illustrated that male penguins of all species tend to have longer culmen lengths and depths on average. There is also nearly no overlap in culmen lengths and depths between the three species. Therefore, this shows that culmen length vs. culmen depth is a good predictor of penguin species, since the three species each occupy a distinct cluster in the scatter plot. This led us to consider using culmen length and culmen depth as our two quantitative features."
      ],
      "metadata": {
        "id": "Kjah932wfH1d"
      }
    },
    {
      "cell_type": "code",
      "source": [
        "def plt_scatter(penguins_train):\n",
        "  '''\n",
        "  input:\n",
        "     penguins_train: a training data set subsetted from penguins\n",
        "  output:\n",
        "     a scatter plot of body culmen length and culmen depth for all species for both sex\n",
        "  '''   \n",
        "  fig,  ax = plt.subplots(2,figsize = (10,7), sharex = True)\n",
        "  # iterate thru all sex\n",
        "  for gender in range(2):\n",
        "    genderList = [\"Female\",\"Male\"]\n",
        "    penguins_train_gender = penguins_train[penguins_train[\"Sex\"]==gender]\n",
        "    species = set(penguins_train[\"Species\"])\n",
        "    #iterate thru all species\n",
        "    for i in species:\n",
        "      subspecies = penguins_train_gender[penguins_train_gender[\"Species\"]==i]\n",
        "      label = i.split(\" \")[0]\n",
        "      ax[gender].scatter(subspecies[\"Culmen Length (mm)\"], subspecies[\"Culmen Depth (mm)\"], label = label,alpha = 0.5)\n",
        "      ax[gender].set(xlabel = \"Culmen Length (mm)\", ylabel = \"Culmen Depth (mm)\", title = \"Scatter Plot of Culmen Depth and Culmen Length for All Species: \" + genderList[gender])\n",
        "    ax[gender].legend()\n",
        "    plt.tight_layout()\n",
        "\n",
        "plt_scatter(penguins_train)\n"
      ],
      "metadata": {
        "id": "yIG33mACs7jZ",
        "colab": {
          "base_uri": "https://localhost:8080/",
          "height": 513
        },
        "outputId": "f385c52d-bbba-45a2-c6f2-429c762aca3e"
      },
      "execution_count": null,
      "outputs": [
        {
          "output_type": "display_data",
          "data": {
            "text/plain": [
              "<Figure size 720x504 with 2 Axes>"
            ],
            "image/png": "[encoded data removed]"
          },
          "metadata": {
            "needs_background": "light"
          }
        }
      ]
    },
    {
      "cell_type": "markdown",
      "source": [
        "**A Bar Plot of Species and Average Culmen Length**"
      ],
      "metadata": {
        "id": "H8vMwuENtu3d"
      }
    },
    {
      "cell_type": "markdown",
      "source": [
        "The bar plot of average culmen length among the three species shows that the flipper lengths of Gentoo and Chinstrap penguins are quite similar, but the flipper length of the Adelie penguin is significantly longer. This figure illustrates that flipper length may not be the best quantitative feature to predict species, since Gentoo and Chinstrap penguins have such similar flipper lengths, on average."
      ],
      "metadata": {
        "id": "l24NZpt1hP0r"
      }
    },
    {
      "cell_type": "code",
      "source": [
        "fig,  ax = plt.subplots(1,figsize = (10,7))\n",
        "ax.set(xlabel = \"Species\", ylabel = \"Flipper Length (mm)\")\n",
        "#name of all species\n",
        "setOfIsland = list(set(penguins_train[\"Species\"]))\n",
        "#means of flipper length of each species\n",
        "setOfDepth = list (penguins_train.groupby([\"Species\"])[\"Flipper Length (mm)\"].mean())\n",
        "\n",
        "plt.bar(setOfIsland, setOfDepth, width = 0.5)\n",
        " \n",
        "plt.title(\"Bar Plot of Species and Average Flipper Length\")\n",
        "plt.tight_layout()\n",
        "plt.show()"
      ],
      "metadata": {
        "id": "1Mv9sfxVt4LA",
        "colab": {
          "base_uri": "https://localhost:8080/",
          "height": 513
        },
        "outputId": "e429c6ee-5e78-468d-d32b-1108a3112ee4"
      },
      "execution_count": null,
      "outputs": [
        {
          "output_type": "display_data",
          "data": {
            "text/plain": [
              "<Figure size 720x504 with 1 Axes>"
            ],
            "image/png": "[encoded data removed]"
          },
          "metadata": {
            "needs_background": "light"
          }
        }
      ]
    },
    {
      "cell_type": "markdown",
      "source": [
        "From the exploratory analysis, we conclude that the qualitative feature we most likely want to use in our models is \"Island\". We found that two of the species each only reside on one specific island, so this would be a valuable characteristic to use while further exploring our models. We also concluded that culmen length and culmen depth were the two most promising quantitative features to predict penguin species. Now, let's move on to feature selection to further explore which one qualitative and two quantitative features we should use in our models!"
      ],
      "metadata": {
        "id": "tPBoXYwokJGg"
      }
    },
    {
      "cell_type": "markdown",
      "source": [
        "**Feature Selection**\n"
      ],
      "metadata": {
        "id": "Hnys2pfP1YQA"
      }
    },
    {
      "cell_type": "markdown",
      "source": [
        "Before testing two quantitative features to select for the models, we first have to clean the training and testing data again. In the prep_penguins_data function, we make a copy of the penguins_train data frame and drop the \"Species\" column for the X (predictor) variable, and make the y (target) variable equal to the \"Species\" column. We then set X_train and y_train equal to these variables.\n",
        "\n",
        "Note: it is important to remember what X and y stand for throughout the project! X is the predictor variable, and y is the target variable!"
      ],
      "metadata": {
        "id": "Jxl6Q0OUi6ZD"
      }
    },
    {
      "cell_type": "code",
      "source": [
        "# Clean training and testing data\n",
        "\n",
        "from sklearn import preprocessing\n",
        "def prep_penguins_data(data_df):\n",
        "    '''\n",
        "    input: \n",
        "      data_df： a data frame format  input, which will be penguins_train data set\n",
        "    output:\n",
        "      X: everything without species, namingly \"Culmen Length (mm)\", \"Culmen Depth (mm)\", \"Flipper Length (mm)\", \"Body Mass (g)\", \"Sex\"\n",
        "      y: species variable\n",
        "    '''\n",
        "    df = data_df.copy().dropna() \n",
        "    # need to drop \"Species\" from penguins_train\n",
        "    X = df.drop(['Species'], axis = 1)\n",
        "    y = df['Species']\n",
        "        \n",
        "    return(X, y)\n",
        "\n",
        "X_train, y_train = prep_penguins_data(penguins_train)"
      ],
      "metadata": {
        "id": "7hh4F5Wk1Znu"
      },
      "execution_count": null,
      "outputs": []
    },
    {
      "cell_type": "markdown",
      "source": [
        "Continuing on with feature selection, we are now making a list of combinations of the multiple quantitative and qualitative features we are considering using in our models. These include the following: Island, Culmen Length, Culmen Depth, Body Mass, and Sex. Our exhaustive search algorithm iterated through all possible combinations of the given features to determine which columns produced the best cross validation score. "
      ],
      "metadata": {
        "id": "ofyEcy_75WRH"
      }
    },
    {
      "cell_type": "code",
      "source": [
        "from itertools import combinations\n",
        "\n",
        "combos = [\"Island\", \"Culmen Length (mm)\", \"Culmen Depth (mm)\", \"Flipper Length (mm)\", \"Body Mass (g)\", \"Sex\"]\n",
        "\n",
        "# all pairs\n",
        "list(combinations(combos,2))\n",
        "\n",
        "# all triples\n",
        "\n",
        "list(combinations(combos,3))\n",
        "\n",
        "# Exhaustive search algorithm:\n",
        "# Should iterate through all subsets and identify best subset of columns\n",
        "# in terms of cross validation error.\n",
        "def exhaustive_search(model, X, y, min_cols, max_cols):\n",
        "    '''\n",
        "    input:\n",
        "      model: desired model for ML\n",
        "      X: everything without species, namingly \"Culmen Length (mm)\", \"Culmen Depth (mm)\", \"Flipper Length (mm)\", \"Body Mass (g)\", \"Sex\"\n",
        "      y: species variable\n",
        "      min_cols: min number of elements from X\n",
        "      max_col: max number of elements from X\n",
        "    output:\n",
        "      best_cv: highest cv value for best_cols\n",
        "      best_cols: best combo of elements that are most relevant to species\n",
        "    '''\n",
        "    best_cv = 0\n",
        "    best_cols = None\n",
        "    for n_cols in range(min_cols, max_cols + 1):\n",
        "        for cols in combinations(X.columns, n_cols):\n",
        "            cv = cross_val_score(model, X[list(cols)], y, cv = 10).mean()\n",
        "            if cv > best_cv:\n",
        "                best_cv = cv\n",
        "                best_cols = cols    \n",
        "    return best_cv, best_cols\n"
      ],
      "metadata": {
        "id": "7zAQyhD348dp"
      },
      "execution_count": null,
      "outputs": []
    },
    {
      "cell_type": "markdown",
      "source": [
        "We are now applying our exhaustive search function to our Logistic Regression model. Let's see which features are most predictive of penguin species!"
      ],
      "metadata": {
        "id": "I6bmpnZv6bTO"
      }
    },
    {
      "cell_type": "code",
      "source": [
        "from sklearn.linear_model import LogisticRegression\n",
        "from sklearn.model_selection import cross_val_score\n",
        "\n",
        "\n",
        "from sklearn.pipeline import make_pipeline #to help scale data\n",
        "from sklearn.preprocessing import StandardScaler #scaler we will use to scale our data\n",
        "\n",
        "LR = LogisticRegression(max_iter=10000)\n",
        "\n",
        "my_model = make_pipeline(StandardScaler(), LR)\n",
        "#set number of varibles to be 2-4\n",
        "best_cv, best_cols = exhaustive_search(LR, X_train, y_train, 2, 4)\n",
        "best_cv, best_cols\n",
        "\n",
        "# The most predictive qualitative feature is Island, and the 2 most predictive quantitative features are Culmen Length and Culmen Depth\n",
        "# (0.9925925925925926,\n",
        "# ('Island', 'Culmen Length (mm)', 'Culmen Depth (mm)', 'Body Mass (g)'))\n"
      ],
      "metadata": {
        "id": "pUvvMe-S5FtC",
        "colab": {
          "base_uri": "https://localhost:8080/"
        },
        "outputId": "8934a68e-830c-4db0-fa98-5dff694f4385"
      },
      "execution_count": null,
      "outputs": [
        {
          "output_type": "execute_result",
          "data": {
            "text/plain": [
              "(0.9925925925925926,\n",
              " ('Island', 'Culmen Length (mm)', 'Culmen Depth (mm)', 'Body Mass (g)'))"
            ]
          },
          "metadata": {},
          "execution_count": 15
        }
      ]
    },
    {
      "cell_type": "markdown",
      "source": [
        "After applying this exhuastive search function to our Logistic Regression model with a max_columns = 2, the best columns were Island and Culmen Length. After changing to max_columns = 4, we found that the most predictive features were Island, Culmen Length, Culmen Depth, and Body Mass. This output also resulted in a best cross validation score (using these columns) of 0.9925925925925926, which was very good! \n",
        "\n",
        "Therefore, through automated feature selection and the exhaustive search algorithm, we determined that the features we wanted to use in our model were: \n",
        "\n",
        "One Qualitative: Island\n",
        "\n",
        "Two Quantitative: Culmen Length, Culmen Depth\n"
      ],
      "metadata": {
        "id": "ihZGH6_M6j3j"
      }
    },
    {
      "cell_type": "markdown",
      "source": [
        "**Modeling**\n",
        "\n",
        "We are finally approaching our modeling section! It's time to visualize and evaluate the performance of multiple machine learning models on predicting species of penguins!\n",
        "\n",
        "But before we can proceed, we must clean the training and testing data one final time. We will narrow down the columns of the previous penguins_train and penguins_test data frames to only include the 2 quantitative features and 1 qualitative feature we are interested in, as well as the target variable y, which is Species."
      ],
      "metadata": {
        "id": "ievGhPFc8wQ8"
      }
    },
    {
      "cell_type": "code",
      "source": [
        "# Clean final training and testing data\n",
        "\n",
        "# Keep the \"Culmen Length (mm)\", \"Culmen Depth (mm)\", \"Island\", \"Species\" columns\n",
        "penguins_train_final = penguins_train[[\"Culmen Length (mm)\", \"Culmen Depth (mm)\", \"Island\", \"Species\"]]\n",
        "penguins_test_final = penguins_test[[\"Culmen Length (mm)\", \"Culmen Depth (mm)\", \"Island\", \"Species\"]]\n",
        "\n"
      ],
      "metadata": {
        "id": "0nZZIsjI7u-r"
      },
      "execution_count": null,
      "outputs": []
    },
    {
      "cell_type": "markdown",
      "source": [
        "In the cell below, we are determining which number we encoded for each species. Earlier in the project, we recoded the Species column of the data frame with (0,1,2) and now we see that the Adelie Penguin was recoded as 0, Chinstrap Penguin as 1, and Gentoo Penguin as 2. These numbers are useful in the later portion of the project when we plot decision regions, so let's keep them in mind!"
      ],
      "metadata": {
        "id": "BYnG2Ui09yBQ"
      }
    },
    {
      "cell_type": "code",
      "source": [
        "# Remember which number corresponds which species (for later use in the decision regions)\n",
        "dfcopy = penguins_train_final.copy().dropna()\n",
        "dfcopy['SpeciesNumber'] = le.fit_transform(dfcopy['Species'])\n",
        "\n",
        "speciesDf = dfcopy.groupby(\"Species\")[\"Species\", \"SpeciesNumber\"].max()\n",
        "speciesDf = speciesDf.values\n",
        "speciesDf\n",
        "\n",
        "#Adelie penguin = 0\n",
        "#Chinstrap penguin = 1 \n",
        "#Gentoo penguin = 2"
      ],
      "metadata": {
        "id": "Swg_REeHNAUQ",
        "colab": {
          "base_uri": "https://localhost:8080/"
        },
        "outputId": "fdb11762-4545-4257-9450-20412c05699f"
      },
      "execution_count": null,
      "outputs": [
        {
          "output_type": "stream",
          "name": "stderr",
          "text": [
            "<ipython-input-17-fb10f5efac41>:5: FutureWarning: Indexing with multiple keys (implicitly converted to a tuple of keys) will be deprecated, use a list instead.\n",
            "  speciesDf = dfcopy.groupby(\"Species\")[\"Species\", \"SpeciesNumber\"].max()\n"
          ]
        },
        {
          "output_type": "execute_result",
          "data": {
            "text/plain": [
              "array([['Adelie Penguin (Pygoscelis adeliae)', 0],\n",
              "       ['Chinstrap penguin (Pygoscelis antarctica)', 1],\n",
              "       ['Gentoo penguin (Pygoscelis papua)', 2]], dtype=object)"
            ]
          },
          "metadata": {},
          "execution_count": 17
        }
      ]
    },
    {
      "cell_type": "markdown",
      "source": [
        "Here, we are cleaning our final training and testing set. The X_train, y_train, X_test, and y_test outputted in the cell below are the data frames we will use in the modeling section. \n"
      ],
      "metadata": {
        "id": "lIKGZD_K-QMb"
      }
    },
    {
      "cell_type": "code",
      "source": [
        "# Clean final training and testing set\n",
        "\n",
        "def prep_penguinsfinal_data(data_df):\n",
        "    '''\n",
        "    input: \n",
        "      data_df： a data frame format  input, which will be penguins_train data set\n",
        "    output:\n",
        "      X: data without species, namingly \"Culmen Length (mm)\", \"Culmen Depth (mm)\", \"Island\", \"Species\"\n",
        "      y: species variable\n",
        "    '''\n",
        "    df = data_df.copy().dropna()\n",
        "    le = preprocessing.LabelEncoder()\n",
        "    df['Species'] = le.fit_transform(df['Species'])\n",
        "    \n",
        "    X_final = df.drop(['Species'], axis = 1)\n",
        "    y_final = df['Species']\n",
        "\n",
        "    return(X_final, y_final)\n",
        "\n",
        "\n",
        "X_train, y_train = prep_penguinsfinal_data(penguins_train_final)\n",
        "X_test,  y_test  = prep_penguinsfinal_data(penguins_test_final)\n",
        "\n"
      ],
      "metadata": {
        "id": "U9tLvUh384oi"
      },
      "execution_count": null,
      "outputs": []
    },
    {
      "cell_type": "markdown",
      "source": [
        "Now, we have finally arrived at our modeling section! In this section, we will evaluate the performance of three machine learning models on predicting species of penguins based on island, culmen length, and culmen depth."
      ],
      "metadata": {
        "id": "pgHPrKCi-99n"
      }
    },
    {
      "cell_type": "markdown",
      "source": [
        "**Model 1: Logistic Regression**"
      ],
      "metadata": {
        "id": "EbtBZ3a_bEzg"
      }
    },
    {
      "cell_type": "markdown",
      "source": [
        "The first machine learning model we are using is Logistic Regression! We will first fit the model with the X_train and y_train data frames, which is \"training\" the model. Then, we will proceed to \"test\" the model by creating a new variable called y_test_pred which will be the predictions the Logistic Regression model comes up with using the X_test predictor data frame.\n",
        "\n",
        "Remember: X is the predictor variable, and y is the target variable!\n",
        "\n",
        "We will perform cross validation for Logistic Regression by choosing the best \"c\" hyperparameter to use in our model.\n"
      ],
      "metadata": {
        "id": "kVOSgfSIAISY"
      }
    },
    {
      "cell_type": "code",
      "source": [
        "from sklearn.linear_model import LogisticRegression\n",
        "from sklearn.model_selection import cross_val_score\n",
        "\n",
        "best_score = 0\n",
        "#exploring different \"C\"s with the best best_score\n",
        "for d in range(1,30):\n",
        "    LR = LogisticRegression(C = d, max_iter=100000)\n",
        "    cv_score = cross_val_score(LR, X_train, y_train, cv=10).mean()\n",
        "    if cv_score > best_score:\n",
        "        best_c = d\n",
        "        best_score = cv_score\n",
        "\n",
        "LR = LogisticRegression(C = best_c)\n",
        "# training\n",
        "LR.fit(X_train, y_train)\n",
        "# evaluating\n",
        "y_test_pred = LR.predict(X_test)"
      ],
      "metadata": {
        "id": "J5-PPoHq9XOY",
        "colab": {
          "base_uri": "https://localhost:8080/"
        },
        "outputId": "38e5c153-a5a2-4f4a-96eb-a5168b4c8255"
      },
      "execution_count": null,
      "outputs": [
        {
          "output_type": "stream",
          "name": "stderr",
          "text": [
            "/usr/local/lib/python3.8/dist-packages/sklearn/linear_model/_logistic.py:814: ConvergenceWarning: lbfgs failed to converge (status=1):\n",
            "STOP: TOTAL NO. of ITERATIONS REACHED LIMIT.\n",
            "\n",
            "Increase the number of iterations (max_iter) or scale the data as shown in:\n",
            "    https://scikit-learn.org/stable/modules/preprocessing.html\n",
            "Please also refer to the documentation for alternative solver options:\n",
            "    https://scikit-learn.org/stable/modules/linear_model.html#logistic-regression\n",
            "  n_iter_i = _check_optimize_result(\n"
          ]
        }
      ]
    },
    {
      "cell_type": "code",
      "source": [
        "print(\"Best Hyperparameter: \" + str(best_c))"
      ],
      "metadata": {
        "colab": {
          "base_uri": "https://localhost:8080/"
        },
        "id": "I3z9zx1W15iI",
        "outputId": "7e91db63-8855-4874-e332-0502b5c0b378"
      },
      "execution_count": null,
      "outputs": [
        {
          "output_type": "stream",
          "name": "stdout",
          "text": [
            "Best Hyperparameter: 23\n"
          ]
        }
      ]
    },
    {
      "cell_type": "markdown",
      "source": [
        "Our cross validation showed us that our best hyperparameter \"C\" was 23, so we will use this value in our Logistic Regression model!"
      ],
      "metadata": {
        "id": "5OwVu-QN9DUo"
      }
    },
    {
      "cell_type": "markdown",
      "source": [
        "A **decision region** is a visual representation of the accuracy with which a model predicts values. The bounded, shaded regions are what the model predicts to be the culmen length and depth values of a certain species of penguin. Then, we assess the accuracy of the model by looking at how many data points stray from those boundaries. If all data points for each species fall within their associated boundaries, then our model did a really good job!\n",
        "\n",
        "Below we have the plot_regions function that we will employ across all three machine learning models. This function plots the decision region for a given model with predictor data frame X and target data frame y. In our models, we will be using X_test and y_test. \n"
      ],
      "metadata": {
        "id": "jiIoAHH0QaPo"
      }
    },
    {
      "cell_type": "code",
      "source": [
        "# decision region function\n",
        "\n",
        "def plot_regions(c, X, y):\n",
        "    '''\n",
        "    input:\n",
        "      c: the model we are passing in\n",
        "      X: data without species, namingly \"Culmen Length (mm)\", \"Culmen Depth (mm)\", \"Island\", \"Species\"\n",
        "      y: species variable \n",
        "    output:\n",
        "      graph given inputs\n",
        "    '''\n",
        "    # for convenience, give names to the two \n",
        "    # columns of the data\n",
        "    x0 = X['Culmen Length (mm)']\n",
        "    x1 = X['Culmen Depth (mm)']\n",
        "\n",
        "    # create a grid\n",
        "    grid_x = np.linspace(x0.min()-1,x0.max()+1,1001)\n",
        "    grid_y = np.linspace(x1.min()-1,x1.max()+1,1001)\n",
        "    xx, yy = np.meshgrid(grid_x, grid_y)\n",
        "    \n",
        "    # extract model predictions, using the \n",
        "    # np.c_ attribute to join together the \n",
        "    # two parts of the grid. \n",
        "    # array.ravel() converts an multidimensional\n",
        "    # array into a 1d array, and we use array.reshape()\n",
        "    # to turn the resulting predictions p \n",
        "    # back into 2d\n",
        "    \n",
        "    XX = xx.ravel()\n",
        "    YY = yy.ravel()\n",
        "    size = len(XX)\n",
        "\n",
        "    X = X.values\n",
        "\n",
        "    # create plot\n",
        "    fig, ax = plt.subplots(3,figsize=(7,10), dpi=100)\n",
        "\n",
        "    color = {0: \"blue\", 1: \"green\", 2: \"red\"}\n",
        "    color_species = {0:\"Adelie\", 1:\"Chinstrap\", 2:\"Gentoo\"}\n",
        "    \n",
        "    # first for loop iteration, concatenate a bunch of 0s - plot this for Island 0: Biscoe \n",
        "    # next for loop iteration, concatenate a bunch of 1s  - plot this for Island 1: Dream\n",
        "    # final for loop iteration, concatenate a bunch of 2s - plot this for Island 2: Torgersen\n",
        "    for island in range(3):\n",
        "      islandList = [\"Biscoe\", \"Dream\", \"Torgersen\"]\n",
        "      ZZ = island * (np.ones(size))\n",
        "      XY = np.c_[XX, YY, ZZ]\n",
        "      p = c.predict(XY)\n",
        "      p = p.reshape(xx.shape)\n",
        "\n",
        "      ax[island].contourf(xx, yy, p, alpha = 0.2, cmap = \"jet\")\n",
        "\n",
        "      Xg = X[X[:,2]==island] #X dataframe for specific island\n",
        "      yg = y[X[:,2]==island] #y dataframe for specific island\n",
        "      print(Xg)\n",
        "      print(yg)\n",
        "      # graph each species at a time\n",
        "      for species in [0,1,2]:\n",
        "                           #culmen length        #culmen depth         \n",
        "        ax[island].scatter(Xg[yg==species][:,0], Xg[yg==species][:,1], c = color[species], label = color_species[species])\n",
        "\n",
        "      ax[island].set(xlabel = \"Culmen Length (mm)\", \n",
        "            ylabel = \"Culmen Depth (mm)\", \n",
        "            title = islandList[island], \n",
        "            label = y)\n",
        "      \n",
        "      ax[island].legend()\n",
        "\n",
        "    plt.tight_layout()"
      ],
      "metadata": {
        "id": "tjxV0VB3Z-ak"
      },
      "execution_count": null,
      "outputs": []
    },
    {
      "cell_type": "markdown",
      "source": [
        "A **confusion matrix** is another representation of a model's accuracy. The diagonal values of a confusion matrix are the correct predictions; in other words, this is where the model did well. The elements of the diagonal are misfires: where the model went wrong. To interpret a confusion matrix alongside a decision region, one should ensure that the number of misfires calculated by the confusion matrix is consistent with the number of points outside the boundaries for a given species in the decision region (total for all island plots).\n"
      ],
      "metadata": {
        "id": "NIyfmX0wS_c7"
      }
    },
    {
      "cell_type": "code",
      "source": [
        "# confusion matrix for test set\n",
        "from sklearn.metrics import confusion_matrix, accuracy_score,ConfusionMatrixDisplay\n",
        "#get the accuracy score\n",
        "accuracy_score = accuracy_score(y_test, y_test_pred)\n",
        "print(accuracy_score)\n",
        "#confusion matrix for LR model\n",
        "LR_test = confusion_matrix(y_test, y_test_pred, labels = LR.classes_)\n",
        "LR_disp = ConfusionMatrixDisplay(confusion_matrix = LR_test, display_labels=LR.classes_)\n",
        "print(LR_test)\n",
        "#draw the confusion matrix\n",
        "LR_disp.plot()\n",
        "plt.show()\n",
        "# diagonal values are correct predictions - where model did well\n",
        "# off diagonal elements are where model went wrong"
      ],
      "metadata": {
        "id": "GYN8ZpWgduU2",
        "colab": {
          "base_uri": "https://localhost:8080/",
          "height": 354
        },
        "outputId": "9f8a6e02-4b6d-4817-87ae-f237b3b3006c"
      },
      "execution_count": null,
      "outputs": [
        {
          "output_type": "stream",
          "name": "stdout",
          "text": [
            "0.9705882352941176\n",
            "[[30  2  0]\n",
            " [ 0 16  0]\n",
            " [ 0  0 20]]\n"
          ]
        },
        {
          "output_type": "display_data",
          "data": {
            "text/plain": [
              "<Figure size 432x288 with 2 Axes>"
            ],
            "image/png": "[encoded data removed]"
          },
          "metadata": {
            "needs_background": "light"
          }
        }
      ]
    },
    {
      "cell_type": "code",
      "source": [
        "# decision region for testing set, males (bottom) + females (top)\n",
        "plot_regions(LR, X_test, y_test)\n"
      ],
      "metadata": {
        "id": "SCqdRnRSfGpk",
        "colab": {
          "base_uri": "https://localhost:8080/",
          "height": 1000
        },
        "outputId": "01a7b2eb-8642-4584-ed28-bb31c0cd1add"
      },
      "execution_count": null,
      "outputs": [
        {
          "output_type": "stream",
          "name": "stderr",
          "text": [
            "/usr/local/lib/python3.8/dist-packages/sklearn/base.py:450: UserWarning: X does not have valid feature names, but LogisticRegression was fitted with feature names\n",
            "  warnings.warn(\n"
          ]
        },
        {
          "output_type": "stream",
          "name": "stdout",
          "text": [
            "[[36.4 17.1  0. ]\n",
            " [49.2 15.2  0. ]\n",
            " [42.7 18.3  0. ]\n",
            " [45.1 14.5  0. ]\n",
            " [48.2 15.6  0. ]\n",
            " [35.9 19.2  0. ]\n",
            " [35.  17.9  0. ]\n",
            " [42.7 13.7  0. ]\n",
            " [49.8 16.8  0. ]\n",
            " [45.6 20.3  0. ]\n",
            " [34.5 18.1  0. ]\n",
            " [51.5 16.3  0. ]\n",
            " [37.9 18.6  0. ]\n",
            " [45.5 15.   0. ]\n",
            " [41.1 19.1  0. ]\n",
            " [43.8 13.9  0. ]\n",
            " [54.3 15.7  0. ]\n",
            " [47.5 14.   0. ]\n",
            " [41.  20.   0. ]\n",
            " [35.5 16.2  0. ]\n",
            " [50.5 15.9  0. ]\n",
            " [38.1 16.5  0. ]\n",
            " [45.8 14.6  0. ]\n",
            " [43.2 14.5  0. ]\n",
            " [50.7 15.   0. ]\n",
            " [50.8 15.7  0. ]\n",
            " [37.6 19.1  0. ]\n",
            " [45.3 13.8  0. ]\n",
            " [46.8 15.4  0. ]\n",
            " [47.6 14.5  0. ]\n",
            " [47.5 14.2  0. ]\n",
            " [44.9 13.8  0. ]]\n",
            "64     0\n",
            "237    2\n",
            "115    0\n",
            "252    2\n",
            "292    2\n",
            "22     0\n",
            "100    0\n",
            "260    2\n",
            "285    2\n",
            "111    0\n",
            "54     0\n",
            "333    2\n",
            "104    0\n",
            "277    2\n",
            "67     0\n",
            "276    2\n",
            "283    2\n",
            "308    2\n",
            "101    0\n",
            "66     0\n",
            "264    2\n",
            "110    0\n",
            "234    2\n",
            "278    2\n",
            "289    2\n",
            "315    2\n",
            "59     0\n",
            "280    2\n",
            "229    2\n",
            "224    2\n",
            "296    2\n",
            "304    2\n",
            "Name: Species, dtype: int64\n",
            "[[40.3 18.5  1. ]\n",
            " [42.2 18.5  1. ]\n",
            " [47.6 18.3  1. ]\n",
            " [35.7 18.   1. ]\n",
            " [40.8 18.9  1. ]\n",
            " [58.  17.8  1. ]\n",
            " [50.3 20.   1. ]\n",
            " [45.7 17.   1. ]\n",
            " [40.9 16.6  1. ]\n",
            " [46.  18.9  1. ]\n",
            " [42.5 17.3  1. ]\n",
            " [44.1 19.7  1. ]\n",
            " [46.4 17.8  1. ]\n",
            " [51.5 18.7  1. ]\n",
            " [38.1 17.6  1. ]\n",
            " [37.  16.9  1. ]\n",
            " [40.2 17.1  1. ]\n",
            " [37.5 18.5  1. ]\n",
            " [42.5 16.7  1. ]\n",
            " [50.2 18.7  1. ]\n",
            " [41.1 18.1  1. ]\n",
            " [52.8 20.   1. ]\n",
            " [49.3 19.9  1. ]\n",
            " [34.  17.1  1. ]\n",
            " [36.  18.5  1. ]\n",
            " [52.  20.7  1. ]\n",
            " [50.8 19.   1. ]\n",
            " [50.5 19.6  1. ]\n",
            " [36.5 18.   1. ]]\n",
            "97     0\n",
            "37     0\n",
            "188    1\n",
            "90     0\n",
            "95     0\n",
            "169    1\n",
            "168    1\n",
            "214    1\n",
            "182    1\n",
            "160    1\n",
            "206    1\n",
            "43     0\n",
            "180    1\n",
            "200    1\n",
            "134    0\n",
            "44     0\n",
            "140    0\n",
            "133    0\n",
            "184    1\n",
            "219    1\n",
            "91     0\n",
            "181    1\n",
            "209    1\n",
            "92     0\n",
            "42     0\n",
            "189    1\n",
            "218    1\n",
            "167    1\n",
            "40     0\n",
            "Name: Species, dtype: int64\n"
          ]
        },
        {
          "output_type": "stream",
          "name": "stderr",
          "text": [
            "/usr/local/lib/python3.8/dist-packages/sklearn/base.py:450: UserWarning: X does not have valid feature names, but LogisticRegression was fitted with feature names\n",
            "  warnings.warn(\n",
            "/usr/local/lib/python3.8/dist-packages/sklearn/base.py:450: UserWarning: X does not have valid feature names, but LogisticRegression was fitted with feature names\n",
            "  warnings.warn(\n"
          ]
        },
        {
          "output_type": "stream",
          "name": "stdout",
          "text": [
            "[[39.2 19.6  2. ]\n",
            " [35.7 17.   2. ]\n",
            " [45.8 18.9  2. ]\n",
            " [38.6 21.2  2. ]\n",
            " [33.5 19.   2. ]\n",
            " [39.1 18.7  2. ]\n",
            " [39.7 18.4  2. ]]\n",
            "7      0\n",
            "118    0\n",
            "73     0\n",
            "13     0\n",
            "70     0\n",
            "0      0\n",
            "71     0\n",
            "Name: Species, dtype: int64\n"
          ]
        },
        {
          "output_type": "display_data",
          "data": {
            "text/plain": [
              "<Figure size 700x1000 with 3 Axes>"
            ],
            "image/png": "[encoded data removed]"
          },
          "metadata": {
            "needs_background": "light"
          }
        }
      ]
    },
    {
      "cell_type": "markdown",
      "source": [
        "**Discussion of Logistic Regression Model:**\n",
        "\n",
        "According to the confusion matrix, the logistic regression model should have two misfires in total. This was shown to be consistent with the decision region plots, with one of the misfires being an Adelie penguin misclassified as a Chinstrap penguin in the \"Biscoe\" decision region, and the other being an Adelie penguin misclassified as a Chinstrap penguin in the \"Torgersen\" decision region. For the misfire in the Biscoe plot, this was due to the fact that the Adelie penguin had a culmen length and depth that placed it just on the boundary between the Adelie and Chinstrap region. In the Torgersen plot, the misfire was because an Adelie penguin had an especially long culmen length compared to other Adelies.\n"
      ],
      "metadata": {
        "id": "Wylk6lN2VBqF"
      }
    },
    {
      "cell_type": "markdown",
      "source": [
        "**Model 2: Random Forest Classifier**\n",
        "\n"
      ],
      "metadata": {
        "id": "hqjbpBog180Q"
      }
    },
    {
      "cell_type": "markdown",
      "source": [
        "First, we will use cross validation to choose complexity parameters. Then, we will select the best depth to use as a parameter for the Random Forest Classifier model."
      ],
      "metadata": {
        "id": "WO93L91yV4Vy"
      }
    },
    {
      "cell_type": "code",
      "source": [
        "from sklearn.model_selection import cross_val_score\n",
        "from sklearn.ensemble import RandomForestClassifier\n",
        "\n",
        "best_score = 0\n",
        "#exploring different max_depth with the best best_score\n",
        "for d in range(1,30):\n",
        "    RF = RandomForestClassifier(max_depth = d)\n",
        "    cv_score = cross_val_score(RF, X_train, y_train, cv=10).mean()\n",
        "    if cv_score > best_score:\n",
        "        best_depth = d\n",
        "        best_score = cv_score\n",
        "#creating the RF model with best depth\n",
        "print(\"Best Hyperparameter: \" + str(best_depth))\n",
        "RF = RandomForestClassifier(best_depth)\n",
        "RF.fit(X_train, y_train)\n",
        "y_test_pred = RF.predict(X_test)"
      ],
      "metadata": {
        "id": "_BsC0AeG1_Fe",
        "colab": {
          "base_uri": "https://localhost:8080/"
        },
        "outputId": "e17759ba-3b8b-4e88-87e9-c48bf6400dc8"
      },
      "execution_count": null,
      "outputs": [
        {
          "output_type": "stream",
          "name": "stdout",
          "text": [
            "Best Hyperparameter: 8\n"
          ]
        }
      ]
    },
    {
      "cell_type": "code",
      "source": [
        "# confusion matrix for test set\n",
        "from sklearn.model_selection import cross_val_score\n",
        "from sklearn.ensemble import RandomForestClassifier\n",
        "from sklearn.metrics import confusion_matrix, accuracy_score,ConfusionMatrixDisplay\n",
        "\n",
        "#get the accuracy score\n",
        "RF_accuracy = accuracy_score(y_test,y_test_pred)\n",
        "print(RF_accuracy)\n",
        "#confusion matrix for RF model\n",
        "RF_test = confusion_matrix(y_test, y_test_pred, labels = RF.classes_)\n",
        "RF_disp = ConfusionMatrixDisplay(confusion_matrix = RF_test, display_labels=RF.classes_)\n",
        "print(RF_test)\n",
        "#draw the confusion matrix\n",
        "RF_disp.plot()\n",
        "plt.show()"
      ],
      "metadata": {
        "id": "g_EUbEOd2XVq",
        "colab": {
          "base_uri": "https://localhost:8080/",
          "height": 354
        },
        "outputId": "27a87500-2511-4e18-9e4c-5ae3c501db3a"
      },
      "execution_count": null,
      "outputs": [
        {
          "output_type": "stream",
          "name": "stdout",
          "text": [
            "0.9411764705882353\n",
            "[[30  1  1]\n",
            " [ 2 14  0]\n",
            " [ 0  0 20]]\n"
          ]
        },
        {
          "output_type": "display_data",
          "data": {
            "text/plain": [
              "<Figure size 432x288 with 2 Axes>"
            ],
            "image/png": "[encoded data removed]"
          },
          "metadata": {
            "needs_background": "light"
          }
        }
      ]
    },
    {
      "cell_type": "code",
      "source": [
        "# decision region for test set, males (top) + females (bottom)\n",
        "plot_regions(RF, X_test, y_test)"
      ],
      "metadata": {
        "id": "uhn6g_b82lUc",
        "colab": {
          "base_uri": "https://localhost:8080/",
          "height": 1000
        },
        "outputId": "9cbe78d0-53a9-4498-c142-22c98526131b"
      },
      "execution_count": null,
      "outputs": [
        {
          "output_type": "stream",
          "name": "stderr",
          "text": [
            "/usr/local/lib/python3.8/dist-packages/sklearn/base.py:450: UserWarning: X does not have valid feature names, but RandomForestClassifier was fitted with feature names\n",
            "  warnings.warn(\n"
          ]
        },
        {
          "output_type": "stream",
          "name": "stdout",
          "text": [
            "[[36.4 17.1  0. ]\n",
            " [49.2 15.2  0. ]\n",
            " [42.7 18.3  0. ]\n",
            " [45.1 14.5  0. ]\n",
            " [48.2 15.6  0. ]\n",
            " [35.9 19.2  0. ]\n",
            " [35.  17.9  0. ]\n",
            " [42.7 13.7  0. ]\n",
            " [49.8 16.8  0. ]\n",
            " [45.6 20.3  0. ]\n",
            " [34.5 18.1  0. ]\n",
            " [51.5 16.3  0. ]\n",
            " [37.9 18.6  0. ]\n",
            " [45.5 15.   0. ]\n",
            " [41.1 19.1  0. ]\n",
            " [43.8 13.9  0. ]\n",
            " [54.3 15.7  0. ]\n",
            " [47.5 14.   0. ]\n",
            " [41.  20.   0. ]\n",
            " [35.5 16.2  0. ]\n",
            " [50.5 15.9  0. ]\n",
            " [38.1 16.5  0. ]\n",
            " [45.8 14.6  0. ]\n",
            " [43.2 14.5  0. ]\n",
            " [50.7 15.   0. ]\n",
            " [50.8 15.7  0. ]\n",
            " [37.6 19.1  0. ]\n",
            " [45.3 13.8  0. ]\n",
            " [46.8 15.4  0. ]\n",
            " [47.6 14.5  0. ]\n",
            " [47.5 14.2  0. ]\n",
            " [44.9 13.8  0. ]]\n",
            "64     0\n",
            "237    2\n",
            "115    0\n",
            "252    2\n",
            "292    2\n",
            "22     0\n",
            "100    0\n",
            "260    2\n",
            "285    2\n",
            "111    0\n",
            "54     0\n",
            "333    2\n",
            "104    0\n",
            "277    2\n",
            "67     0\n",
            "276    2\n",
            "283    2\n",
            "308    2\n",
            "101    0\n",
            "66     0\n",
            "264    2\n",
            "110    0\n",
            "234    2\n",
            "278    2\n",
            "289    2\n",
            "315    2\n",
            "59     0\n",
            "280    2\n",
            "229    2\n",
            "224    2\n",
            "296    2\n",
            "304    2\n",
            "Name: Species, dtype: int64\n"
          ]
        },
        {
          "output_type": "stream",
          "name": "stderr",
          "text": [
            "/usr/local/lib/python3.8/dist-packages/sklearn/base.py:450: UserWarning: X does not have valid feature names, but RandomForestClassifier was fitted with feature names\n",
            "  warnings.warn(\n"
          ]
        },
        {
          "output_type": "stream",
          "name": "stdout",
          "text": [
            "[[40.3 18.5  1. ]\n",
            " [42.2 18.5  1. ]\n",
            " [47.6 18.3  1. ]\n",
            " [35.7 18.   1. ]\n",
            " [40.8 18.9  1. ]\n",
            " [58.  17.8  1. ]\n",
            " [50.3 20.   1. ]\n",
            " [45.7 17.   1. ]\n",
            " [40.9 16.6  1. ]\n",
            " [46.  18.9  1. ]\n",
            " [42.5 17.3  1. ]\n",
            " [44.1 19.7  1. ]\n",
            " [46.4 17.8  1. ]\n",
            " [51.5 18.7  1. ]\n",
            " [38.1 17.6  1. ]\n",
            " [37.  16.9  1. ]\n",
            " [40.2 17.1  1. ]\n",
            " [37.5 18.5  1. ]\n",
            " [42.5 16.7  1. ]\n",
            " [50.2 18.7  1. ]\n",
            " [41.1 18.1  1. ]\n",
            " [52.8 20.   1. ]\n",
            " [49.3 19.9  1. ]\n",
            " [34.  17.1  1. ]\n",
            " [36.  18.5  1. ]\n",
            " [52.  20.7  1. ]\n",
            " [50.8 19.   1. ]\n",
            " [50.5 19.6  1. ]\n",
            " [36.5 18.   1. ]]\n",
            "97     0\n",
            "37     0\n",
            "188    1\n",
            "90     0\n",
            "95     0\n",
            "169    1\n",
            "168    1\n",
            "214    1\n",
            "182    1\n",
            "160    1\n",
            "206    1\n",
            "43     0\n",
            "180    1\n",
            "200    1\n",
            "134    0\n",
            "44     0\n",
            "140    0\n",
            "133    0\n",
            "184    1\n",
            "219    1\n",
            "91     0\n",
            "181    1\n",
            "209    1\n",
            "92     0\n",
            "42     0\n",
            "189    1\n",
            "218    1\n",
            "167    1\n",
            "40     0\n",
            "Name: Species, dtype: int64\n"
          ]
        },
        {
          "output_type": "stream",
          "name": "stderr",
          "text": [
            "/usr/local/lib/python3.8/dist-packages/sklearn/base.py:450: UserWarning: X does not have valid feature names, but RandomForestClassifier was fitted with feature names\n",
            "  warnings.warn(\n"
          ]
        },
        {
          "output_type": "stream",
          "name": "stdout",
          "text": [
            "[[39.2 19.6  2. ]\n",
            " [35.7 17.   2. ]\n",
            " [45.8 18.9  2. ]\n",
            " [38.6 21.2  2. ]\n",
            " [33.5 19.   2. ]\n",
            " [39.1 18.7  2. ]\n",
            " [39.7 18.4  2. ]]\n",
            "7      0\n",
            "118    0\n",
            "73     0\n",
            "13     0\n",
            "70     0\n",
            "0      0\n",
            "71     0\n",
            "Name: Species, dtype: int64\n"
          ]
        },
        {
          "output_type": "display_data",
          "data": {
            "text/plain": [
              "<Figure size 700x1000 with 3 Axes>"
            ],
            "image/png": "[encoded data removed]"
          },
          "metadata": {
            "needs_background": "light"
          }
        }
      ]
    },
    {
      "cell_type": "markdown",
      "source": [
        "**Discussion of Random Forest Classifier Model:**\n",
        "\n",
        "According to the confusion matrix, the Random Forest model should have four misfires in total. This was shown to be consistent with the decision region plots, with one misfire being a Adelie penguin misclassified as a Gentoo penguin in the \"Biscoe\" decision region. This was because the Adelie penguin had an especially long culmen length compared to other Adelie penguins. There were also three misfires in the \"Dream\" region, with two misfires being a Chinstrap misidentified as an Adelie, and another misfire being an Adelie misidentified as a Chinstrap. This was because one of the Chinstraps had an especially short culmen length compared to the other Chinstraps, and the second Chinstrap had a combination of a shorter culmen length and longer culmen depth that just put it at the edge of the decision boundary. The Adelie had a longer culmen length and depth compared to the rest of the Adelies, which placed it in the \"Chinstrap\" region."
      ],
      "metadata": {
        "id": "enQXGCYVVkc6"
      }
    },
    {
      "cell_type": "markdown",
      "source": [
        "**Model 3: Support Vector Machine**\n",
        "\n",
        "\n",
        "\n"
      ],
      "metadata": {
        "id": "3NtN3O_LFifc"
      }
    },
    {
      "cell_type": "code",
      "source": [
        "from sklearn import svm\n",
        "from sklearn.model_selection import cross_val_score\n",
        "import numpy\n",
        "\n",
        "best_score = 0\n",
        "#exploring different \"C\"s with the best best_score\n",
        "for d in range(1,30):\n",
        "    SVM = svm.SVC(C = d)\n",
        "    cv_score = cross_val_score(SVM, X_train, y_train, cv=10).mean()\n",
        "    if cv_score > best_score:\n",
        "        best_c = d\n",
        "        best_score = cv_score\n",
        "\n",
        "#creating the SVM model with the best kernel\n",
        "print(\"Best Hyperparameter: \" + str(best_c))\n",
        "SVM = svm.SVC(C = best_c)\n",
        "SVM.fit(X_train, y_train)\n",
        "y_train_pred = SVM.predict(X_train)\n",
        "y_test_pred = SVM.predict(X_test)"
      ],
      "metadata": {
        "id": "B6za7wUXFnc3",
        "colab": {
          "base_uri": "https://localhost:8080/"
        },
        "outputId": "1570852f-0111-4634-ddda-a50643759b82"
      },
      "execution_count": null,
      "outputs": [
        {
          "output_type": "stream",
          "name": "stdout",
          "text": [
            "Best Hyperparameter: 24\n"
          ]
        }
      ]
    },
    {
      "cell_type": "code",
      "source": [
        "# confusion matrix for test set\n",
        "from sklearn import svm\n",
        "from sklearn.model_selection import cross_val_score\n",
        "from sklearn.metrics import confusion_matrix, accuracy_score,ConfusionMatrixDisplay\n",
        "\n",
        "#get the accuracy score\n",
        "SVM_accuracy = accuracy_score(y_test,y_test_pred)\n",
        "print(SVM_accuracy)\n",
        "#confusion matrix for SVM model\n",
        "SVM_test = confusion_matrix(y_test, y_test_pred, labels = SVM.classes_)\n",
        "SVM_disp = ConfusionMatrixDisplay(confusion_matrix = SVM_test, display_labels=SVM.classes_)\n",
        "print(SVM_test)\n",
        "#draw the confusion matrix\n",
        "SVM_disp.plot()\n",
        "plt.show()"
      ],
      "metadata": {
        "id": "0GuXqSyjF6ZG",
        "colab": {
          "base_uri": "https://localhost:8080/",
          "height": 354
        },
        "outputId": "f5b76b96-9d19-4e12-d2bd-d598c27c7215"
      },
      "execution_count": null,
      "outputs": [
        {
          "output_type": "stream",
          "name": "stdout",
          "text": [
            "0.9117647058823529\n",
            "[[30  2  0]\n",
            " [ 3 12  1]\n",
            " [ 0  0 20]]\n"
          ]
        },
        {
          "output_type": "display_data",
          "data": {
            "text/plain": [
              "<Figure size 432x288 with 2 Axes>"
            ],
            "image/png": "[encoded data removed]"
          },
          "metadata": {
            "needs_background": "light"
          }
        }
      ]
    },
    {
      "cell_type": "code",
      "source": [
        "# decision region \n",
        "plot_regions(SVM, X_test, y_test)"
      ],
      "metadata": {
        "id": "0I9Jc8VnGK8y",
        "colab": {
          "base_uri": "https://localhost:8080/",
          "height": 1000
        },
        "outputId": "20d5083d-ae1a-4571-a4c8-f0802536e25c"
      },
      "execution_count": null,
      "outputs": [
        {
          "output_type": "stream",
          "name": "stderr",
          "text": [
            "/usr/local/lib/python3.8/dist-packages/sklearn/base.py:450: UserWarning: X does not have valid feature names, but SVC was fitted with feature names\n",
            "  warnings.warn(\n"
          ]
        },
        {
          "output_type": "stream",
          "name": "stdout",
          "text": [
            "[[36.4 17.1  0. ]\n",
            " [49.2 15.2  0. ]\n",
            " [42.7 18.3  0. ]\n",
            " [45.1 14.5  0. ]\n",
            " [48.2 15.6  0. ]\n",
            " [35.9 19.2  0. ]\n",
            " [35.  17.9  0. ]\n",
            " [42.7 13.7  0. ]\n",
            " [49.8 16.8  0. ]\n",
            " [45.6 20.3  0. ]\n",
            " [34.5 18.1  0. ]\n",
            " [51.5 16.3  0. ]\n",
            " [37.9 18.6  0. ]\n",
            " [45.5 15.   0. ]\n",
            " [41.1 19.1  0. ]\n",
            " [43.8 13.9  0. ]\n",
            " [54.3 15.7  0. ]\n",
            " [47.5 14.   0. ]\n",
            " [41.  20.   0. ]\n",
            " [35.5 16.2  0. ]\n",
            " [50.5 15.9  0. ]\n",
            " [38.1 16.5  0. ]\n",
            " [45.8 14.6  0. ]\n",
            " [43.2 14.5  0. ]\n",
            " [50.7 15.   0. ]\n",
            " [50.8 15.7  0. ]\n",
            " [37.6 19.1  0. ]\n",
            " [45.3 13.8  0. ]\n",
            " [46.8 15.4  0. ]\n",
            " [47.6 14.5  0. ]\n",
            " [47.5 14.2  0. ]\n",
            " [44.9 13.8  0. ]]\n",
            "64     0\n",
            "237    2\n",
            "115    0\n",
            "252    2\n",
            "292    2\n",
            "22     0\n",
            "100    0\n",
            "260    2\n",
            "285    2\n",
            "111    0\n",
            "54     0\n",
            "333    2\n",
            "104    0\n",
            "277    2\n",
            "67     0\n",
            "276    2\n",
            "283    2\n",
            "308    2\n",
            "101    0\n",
            "66     0\n",
            "264    2\n",
            "110    0\n",
            "234    2\n",
            "278    2\n",
            "289    2\n",
            "315    2\n",
            "59     0\n",
            "280    2\n",
            "229    2\n",
            "224    2\n",
            "296    2\n",
            "304    2\n",
            "Name: Species, dtype: int64\n"
          ]
        },
        {
          "output_type": "stream",
          "name": "stderr",
          "text": [
            "/usr/local/lib/python3.8/dist-packages/sklearn/base.py:450: UserWarning: X does not have valid feature names, but SVC was fitted with feature names\n",
            "  warnings.warn(\n"
          ]
        },
        {
          "output_type": "stream",
          "name": "stdout",
          "text": [
            "[[40.3 18.5  1. ]\n",
            " [42.2 18.5  1. ]\n",
            " [47.6 18.3  1. ]\n",
            " [35.7 18.   1. ]\n",
            " [40.8 18.9  1. ]\n",
            " [58.  17.8  1. ]\n",
            " [50.3 20.   1. ]\n",
            " [45.7 17.   1. ]\n",
            " [40.9 16.6  1. ]\n",
            " [46.  18.9  1. ]\n",
            " [42.5 17.3  1. ]\n",
            " [44.1 19.7  1. ]\n",
            " [46.4 17.8  1. ]\n",
            " [51.5 18.7  1. ]\n",
            " [38.1 17.6  1. ]\n",
            " [37.  16.9  1. ]\n",
            " [40.2 17.1  1. ]\n",
            " [37.5 18.5  1. ]\n",
            " [42.5 16.7  1. ]\n",
            " [50.2 18.7  1. ]\n",
            " [41.1 18.1  1. ]\n",
            " [52.8 20.   1. ]\n",
            " [49.3 19.9  1. ]\n",
            " [34.  17.1  1. ]\n",
            " [36.  18.5  1. ]\n",
            " [52.  20.7  1. ]\n",
            " [50.8 19.   1. ]\n",
            " [50.5 19.6  1. ]\n",
            " [36.5 18.   1. ]]\n",
            "97     0\n",
            "37     0\n",
            "188    1\n",
            "90     0\n",
            "95     0\n",
            "169    1\n",
            "168    1\n",
            "214    1\n",
            "182    1\n",
            "160    1\n",
            "206    1\n",
            "43     0\n",
            "180    1\n",
            "200    1\n",
            "134    0\n",
            "44     0\n",
            "140    0\n",
            "133    0\n",
            "184    1\n",
            "219    1\n",
            "91     0\n",
            "181    1\n",
            "209    1\n",
            "92     0\n",
            "42     0\n",
            "189    1\n",
            "218    1\n",
            "167    1\n",
            "40     0\n",
            "Name: Species, dtype: int64\n"
          ]
        },
        {
          "output_type": "stream",
          "name": "stderr",
          "text": [
            "/usr/local/lib/python3.8/dist-packages/sklearn/base.py:450: UserWarning: X does not have valid feature names, but SVC was fitted with feature names\n",
            "  warnings.warn(\n"
          ]
        },
        {
          "output_type": "stream",
          "name": "stdout",
          "text": [
            "[[39.2 19.6  2. ]\n",
            " [35.7 17.   2. ]\n",
            " [45.8 18.9  2. ]\n",
            " [38.6 21.2  2. ]\n",
            " [33.5 19.   2. ]\n",
            " [39.1 18.7  2. ]\n",
            " [39.7 18.4  2. ]]\n",
            "7      0\n",
            "118    0\n",
            "73     0\n",
            "13     0\n",
            "70     0\n",
            "0      0\n",
            "71     0\n",
            "Name: Species, dtype: int64\n"
          ]
        },
        {
          "output_type": "display_data",
          "data": {
            "text/plain": [
              "<Figure size 700x1000 with 3 Axes>"
            ],
            "image/png": "[encoded data removed]"
          },
          "metadata": {
            "needs_background": "light"
          }
        }
      ]
    },
    {
      "cell_type": "markdown",
      "source": [
        "**Discussion of Support Vector Machine Model:**\n",
        "\n",
        "According to the confusion matrix, the SVM model should have six misfires in total. This was shown to be consistent with the decision region plots. There was one misfire in the \"Biscoe\" region, with an Adelie penguin misclassified as a Chinstrap. This was because the Adelie penguin had a longer culmen length and depth compared to the other Adelie penguins. Additionally, there were four misfires in the \"Dream\" region, with three Chinstraps misclassified as Adelie penguins, and one Chinstrap misclassified as a Gentoo penguin. The three Chinstraps had shorter culmen depths and culmen lengths than most of the other Chinstraps, while the fourth Chinstrap had a much longer culmen length. Finally, there was one misfire in the \"Torgersen\" region, with an Adelie penguin misclassified as a Chinstrap because it had an especially long culmen length. "
      ],
      "metadata": {
        "id": "TM1iNwgrWMyU"
      }
    },
    {
      "cell_type": "markdown",
      "source": [
        "**Discussion**\n",
        "\n",
        "- Describe the overall performance of your models\n",
        "\n",
        "After employing all three machine learning models, we found that the most accurate predictor of penguin species was the Logistic Regression model along with the features Culmen Length, Culmen Depth, and Island. This was because the Logistic Regression Model had 2 misfires, while the Random Forest model had 4 misfires, and the SVM model had 6 misfires. Additionally, the LR model had an accuracy score of 0.9705882352941176, the RF model had an accuracy score of 0.9411764705882353, and the SVM model had an accuracy score of 0.9117647058823529. \n",
        "\n",
        "SVM appeared to be the least accurate model because its boundary for classifying Chinstrap penguins was very inaccurate for the Dream island, with four being misclassified. For both the Logistic Regression and SVM models, we chose to choose the best \"C\" value as our hyperparameter, and we found that the best \"C\" value for LR was 23, and the best \"C\" for SVM was 24. We used depth as our hyperparameter for the Random Forest model, and the max_depth with the best cross validation score was 8. \n",
        "\n",
        "\n",
        "Random Forest was a more accurate and flexible model than SVM. The boundaries had some jagged edges, which allowed for finer differentiation, but followed the nuances of the specific data little too closely, resulting in four misfires. The Logistic Regression was slightly more accurate than Random forest, with two misfires, and was also more flexible than SVM. \n",
        "\n",
        "However, in terms of the presentation of the decision regions, Random Forest appeared to have the most accurate boundaries compared to the Logistic Regression and SVM models. For the Biscoe plot, the Random Forest model didn't have a green region to represent Chinstrap penguins since they don't reside on the Biscoe island. Additionally, the Dream plot only had a very small red region for the Gentoo species since the Dream island only contains Adelie and Chinstrap penguins. The Torgersen plot had a relatively smaller red region for the Gentoo penguin as well and no green region for Chinstraps, since the Adelie species is the only one that resides on the Torgersen island. On the other hand, both the Logistic Regression and SVM models included all three colored regions for each island, even when not every island included every penguin species. Both Dream and Biscoe plots should only have two colored regions each (because only two penguins species exist on each island - Adelie and Gentoo on Biscoe and Adelie and Chinstrap on Dream), Torgersen plots with one colored region (only Adelie penguins exist on that island). This data illustrates that the Random Forest model was more accurate in terms of the shaded regions that represent the species that reside on each island.\n",
        "\n",
        "\n",
        "- State which combination of model and features (measurements) you recommend\n",
        "\n",
        "Through our exploratory analysis and automated feature selection, we chose Culmen Length, Culmen Depth, and Island as the features we wanted to use in our models. However, if we were to repeat this project and improve on our decisions, we may have wanted to use Sex as a qualitative feature instead of Island, or, include it as additional feature. We previously created thee models using Sex as a qualitative feature, and we actually had higher accuracy scores for almost all our models. However, we made a slight change to our data, and our automated feature selection began to output Island as the best predictor variable to use. So, in this project, we made the rational decision to use Island as our qualitative feature instead because it showed the best cross validation score according to our automated feature selection. \n",
        " \n",
        "\n",
        "- Discuss how the model could be improved if more or different data were available\n",
        "\n",
        "We could improve the model by using more data. Instead of just choosing one qualitative variable, we could have used both Sex and Island. Additionally, we could have used Body Mass as a third quantitative variable, because it was identified by our automated feature selection as a good choice as well."
      ],
      "metadata": {
        "id": "ExbT6f3H4Dy7"
      }
    },
    {
      "cell_type": "code",
      "source": [],
      "metadata": {
        "id": "afXyHZCxABcO"
      },
      "execution_count": null,
      "outputs": []
    }
  ]
}